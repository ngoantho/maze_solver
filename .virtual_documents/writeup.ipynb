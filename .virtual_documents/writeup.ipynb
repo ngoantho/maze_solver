maze = []
with open("maze.txt", 'r') as file:
    for line in file:
        line = line.rstrip()
        row = []
        for block in line:
            if block == ' ':
                row.append(0) # path
            else:
                row.append(1) # wall
        maze.append(row)
# process maze file
print(maze)


# plot maze
import matplotlib.pyplot as plt
plt.pcolormesh(maze)
plt.xticks([])
plt.yticks([])
plt.axes().invert_yaxis()
plt.show()


# empty map
map = []
for i in range(len(maze)):
    row = []
    for j in range(len(maze[i])):
        row.append(0)
    map.append(row)

# setup
start = 0,9
end = 20,11
map[start[0]][start[1]] = 1


def do_step(step):
    for i in range(len(maze)):
        for j in range(len(maze[i])):
            if map[i][j] == step:
                if i > 0 and map[i-1][j] == 0 and maze[i-1][j] == 0: # top
                    map[i-1][j] = step + 1
                if j > 0 and map[i][j-1] == 0 and maze[i][j-1] == 0: # left
                    map[i][j-1] = step + 1
                if i < len(maze)-1 and map[i+1][j] == 0 and maze[i+1][j] == 0: # bottom
                    map[i+1][j] = step + 1
                if j < len(maze[i])-1 and map[i][j+1] == 0 and maze[i][j+1] == 0: # right
                    map[i][j+1] = step + 1


# loop until end is reached
step = 0
while map[end[0]][end[1]] == 0:
    step += 1
    do_step(step)


plt.pcolormesh(map)
plt.xticks([])
plt.yticks([])
plt.axes().invert_yaxis()
plt.show()


i, j = end
step = map[i][j]
x,y = [i],[j]

while step > 1:
    if i > 0 and map[i-1][j] == (step-1): # top
        i,j = i-1,j
        x.append(i)
        y.append(j)
        step -= 1
    if j > 0 and map[i][j-1] == (step-1): # left
        i,j = i,j-1
        x.append(i)
        y.append(j)
        step -= 1
    if i < len(maze)-1 and map[i+1][j] == (step-1): # bottom
        i,j = i+1,j
        x.append(i)
        y.append(j)
        step -= 1
    if j < len(maze[i])-1 and map[i][j+1] == (step-1): # right
        i,j = i,j+1
        x.append(i)
        y.append(j)
        step -= 1


plt.plot(y,x)
plt.axes().invert_xaxis()
plt.show()



