{
 "cells": [
  {
   "cell_type": "markdown",
   "metadata": {},
   "source": [
    "# Search algorithms"
   ]
  },
  {
   "cell_type": "markdown",
   "metadata": {},
   "source": [
    "## Introduction\n",
    "Related to numerical methods, a search algorithm is:\n",
    "> any algorithm which solves the \"search problem\".\n",
    "\n",
    "Then, the \"search problem\" is, intuitively:\n",
    "> consisting of finding structure 'y' in object 'x'. An algorithm is said to solve the problem if at least one corresponding structure exists, and then one occurrence of this structure is the output; otherwise, the problem continues.\n",
    "\n",
    "In other words, searching is the algorithmic method of finding a particular item in a collection of items, resulting in true or false as to whether the item exists."
   ]
  },
  {
   "cell_type": "markdown",
   "metadata": {},
   "source": [
    "## Solving mazes\n",
    "> A maze is one or more paths from an entrance to an exit\n",
    "> ![](https://upload.wikimedia.org/wikipedia/commons/thumb/8/88/Maze_simple.svg/1024px-Maze_simple.svg.png)\n",
    "\n",
    "### Wall follower\n",
    "By keeping one hand in contact with one wall, the solver is guaranteed to find a path and reach the exit if there is one, albeit not very efficiently. \n",
    "\n",
    "![](https://upload.wikimedia.org/wikipedia/commons/f/f7/Maze01-02.png)\n",
    "However, this maze must be simply-connected (i.e. the start and end are on the outside walls, there are no pathways crossing over)."
   ]
  },
  {
   "cell_type": "markdown",
   "metadata": {},
   "source": [
    "### Tremaux's algorithm\n",
    "An algorithm, invented by Charles Pierre Tremaux, requires drawing lines on the floor to mark a path.\n",
    "> A path is either unvisited, marked once, or twice. Every time a direction is chosen it is marked by a line on the ground. In the beginning, a random direction is chosen if there is more than one. On arriving at a junction unvisited, pick a random direction and mark that path. When arriving at a marked junction and the current path is only marked once, turn around, walk back, and mark that path a second time. When turning back, pick the direction with the fewest marks (mark it). At the end, paths marked once will indicate a way back to the start.\n",
    "\n",
    "Rules:\n",
    "- A path from a junction is either unvisited, once, or twice\n",
    "- Never enter a path marked twice"
   ]
  },
  {
   "cell_type": "markdown",
   "metadata": {},
   "source": [
    "# Breadth first search\n",
    "One such algorithm is breadth-first-search. With this algorithm, you start traversing from the start node and then traverse the maze layerwise, thus exploring the neighbor nodes. Then, the next-level neighbor nodes are visited, and so on.\n",
    "\n",
    "As the name implies, the maze is travelled breadthwise:\n",
    "- First move horizontally and visit all paths of the current layer\n",
    "- Move to the next layer"
   ]
  },
  {
   "cell_type": "code",
   "execution_count": 1,
   "metadata": {},
   "outputs": [
    {
     "name": "stdout",
     "output_type": "stream",
     "text": [
      "[[1, 1, 1, 1, 1, 1, 1, 1, 1, 0, 1, 1, 1, 1, 1, 1, 1, 1, 1, 1, 1], [1, 0, 0, 0, 1, 0, 0, 0, 0, 0, 0, 0, 0, 0, 0, 0, 0, 0, 1, 0, 1], [1, 0, 1, 0, 1, 0, 1, 1, 1, 1, 1, 1, 1, 0, 1, 1, 1, 0, 1, 0, 1], [1, 0, 1, 0, 1, 0, 0, 0, 1, 0, 0, 0, 1, 0, 1, 0, 1, 0, 0, 0, 1], [1, 0, 1, 1, 1, 1, 1, 0, 1, 1, 1, 0, 1, 0, 1, 0, 1, 0, 1, 1, 1], [1, 0, 1, 0, 0, 0, 1, 0, 0, 0, 1, 0, 1, 0, 0, 0, 1, 0, 0, 0, 1], [1, 0, 1, 0, 1, 0, 1, 0, 1, 0, 1, 0, 1, 0, 1, 1, 1, 0, 1, 1, 1], [1, 0, 0, 0, 1, 0, 0, 0, 1, 0, 0, 0, 1, 0, 1, 0, 0, 0, 0, 0, 1], [1, 1, 1, 1, 1, 1, 1, 1, 1, 1, 1, 1, 1, 1, 1, 0, 1, 1, 1, 0, 1], [1, 0, 0, 0, 0, 0, 0, 0, 0, 0, 0, 0, 0, 0, 1, 0, 0, 0, 1, 0, 1], [1, 0, 1, 1, 1, 1, 1, 1, 1, 1, 1, 0, 1, 0, 1, 1, 1, 1, 1, 0, 1], [1, 0, 0, 0, 1, 0, 0, 0, 0, 0, 0, 0, 1, 0, 0, 0, 0, 0, 0, 0, 1], [1, 0, 1, 0, 1, 0, 1, 1, 1, 0, 1, 1, 1, 0, 1, 1, 1, 1, 1, 1, 1], [1, 0, 1, 0, 1, 0, 0, 0, 1, 0, 0, 0, 0, 0, 1, 0, 0, 0, 0, 0, 1], [1, 0, 1, 1, 1, 1, 1, 0, 1, 0, 1, 1, 1, 0, 1, 0, 1, 1, 1, 0, 1], [1, 0, 1, 0, 0, 0, 0, 0, 1, 0, 1, 0, 1, 0, 1, 0, 0, 0, 1, 0, 1], [1, 1, 1, 0, 1, 1, 1, 0, 1, 0, 1, 0, 1, 0, 1, 1, 1, 0, 1, 0, 1], [1, 0, 0, 0, 1, 0, 0, 0, 1, 0, 0, 0, 1, 0, 0, 0, 1, 0, 1, 0, 1], [1, 0, 1, 1, 1, 0, 1, 1, 1, 1, 1, 1, 1, 1, 1, 0, 1, 0, 1, 0, 1], [1, 0, 0, 0, 1, 0, 0, 0, 0, 0, 0, 0, 1, 0, 0, 0, 0, 0, 1, 0, 1], [1, 1, 1, 1, 1, 1, 1, 1, 1, 1, 1, 0, 1, 1, 1, 1, 1, 1, 1, 1, 1]]\n"
     ]
    }
   ],
   "source": [
    "maze = []\n",
    "with open(\"maze.txt\", 'r') as file:\n",
    "    for line in file:\n",
    "        line = line.rstrip()\n",
    "        row = []\n",
    "        for block in line:\n",
    "            if block == ' ':\n",
    "                row.append(0) # path\n",
    "            else:\n",
    "                row.append(1) # wall\n",
    "        maze.append(row)\n",
    "# process maze file\n",
    "print(maze)"
   ]
  },
  {
   "cell_type": "code",
   "execution_count": 2,
   "metadata": {},
   "outputs": [
    {
     "name": "stderr",
     "output_type": "stream",
     "text": [
      "<ipython-input-2-b7b22236aa6a>:6: MatplotlibDeprecationWarning: Adding an axes using the same arguments as a previous axes currently reuses the earlier instance.  In a future version, a new instance will always be created and returned.  Meanwhile, this warning can be suppressed, and the future behavior ensured, by passing a unique label to each axes instance.\n",
      "  plt.axes().invert_yaxis()\n"
     ]
    },
    {
     "data": {
      "image/png": "[encoded data removed]",
      "text/plain": [
       "<Figure size 432x288 with 1 Axes>"
      ]
     },
     "metadata": {},
     "output_type": "display_data"
    }
   ],
   "source": [
    "# plot maze\n",
    "import matplotlib.pyplot as plt\n",
    "plt.pcolormesh(maze)\n",
    "plt.xticks([])\n",
    "plt.yticks([])\n",
    "plt.axes().invert_yaxis()\n",
    "plt.show()"
   ]
  },
  {
   "cell_type": "code",
   "execution_count": 3,
   "metadata": {},
   "outputs": [],
   "source": [
    "# empty map\n",
    "map = []\n",
    "for i in range(len(maze)):\n",
    "    row = []\n",
    "    for j in range(len(maze[i])):\n",
    "        row.append(0)\n",
    "    map.append(row)\n",
    "\n",
    "# setup\n",
    "start = 0,9\n",
    "end = 20,11\n",
    "map[start[0]][start[1]] = 1"
   ]
  },
  {
   "cell_type": "code",
   "execution_count": 4,
   "metadata": {},
   "outputs": [],
   "source": [
    "def do_step(step):\n",
    "    for i in range(len(maze)):\n",
    "        for j in range(len(maze[i])):\n",
    "            if map[i][j] == step:\n",
    "                if i > 0 and map[i-1][j] == 0 and maze[i-1][j] == 0: # top\n",
    "                    map[i-1][j] = step + 1\n",
    "                if j > 0 and map[i][j-1] == 0 and maze[i][j-1] == 0: # left\n",
    "                    map[i][j-1] = step + 1\n",
    "                if i < len(maze)-1 and map[i+1][j] == 0 and maze[i+1][j] == 0: # bottom\n",
    "                    map[i+1][j] = step + 1\n",
    "                if j < len(maze[i])-1 and map[i][j+1] == 0 and maze[i][j+1] == 0: # right\n",
    "                    map[i][j+1] = step + 1"
   ]
  },
  {
   "cell_type": "code",
   "execution_count": 5,
   "metadata": {},
   "outputs": [],
   "source": [
    "# loop until end is reached\n",
    "step = 0\n",
    "while map[end[0]][end[1]] == 0:\n",
    "    step += 1\n",
    "    do_step(step)"
   ]
  },
  {
   "cell_type": "code",
   "execution_count": 6,
   "metadata": {},
   "outputs": [
    {
     "name": "stderr",
     "output_type": "stream",
     "text": [
      "<ipython-input-6-bc9874fbf107>:4: MatplotlibDeprecationWarning: Adding an axes using the same arguments as a previous axes currently reuses the earlier instance.  In a future version, a new instance will always be created and returned.  Meanwhile, this warning can be suppressed, and the future behavior ensured, by passing a unique label to each axes instance.\n",
      "  plt.axes().invert_yaxis()\n"
     ]
    },
    {
     "data": {
      "image/png": "[encoded data removed]",
      "text/plain": [
       "<Figure size 432x288 with 1 Axes>"
      ]
     },
     "metadata": {},
     "output_type": "display_data"
    }
   ],
   "source": [
    "plt.pcolormesh(map)\n",
    "plt.xticks([])\n",
    "plt.yticks([])\n",
    "plt.axes().invert_yaxis()\n",
    "plt.show()"
   ]
  },
  {
   "cell_type": "code",
   "execution_count": 7,
   "metadata": {},
   "outputs": [],
   "source": [
    "i, j = end\n",
    "step = map[i][j]\n",
    "x,y = [i],[j]\n",
    "\n",
    "while step > 1:\n",
    "    if i > 0 and map[i-1][j] == (step-1): # top\n",
    "        i,j = i-1,j\n",
    "        x.append(i)\n",
    "        y.append(j)\n",
    "        step -= 1\n",
    "    if j > 0 and map[i][j-1] == (step-1): # left\n",
    "        i,j = i,j-1\n",
    "        x.append(i)\n",
    "        y.append(j)\n",
    "        step -= 1\n",
    "    if i < len(maze)-1 and map[i+1][j] == (step-1): # bottom\n",
    "        i,j = i+1,j\n",
    "        x.append(i)\n",
    "        y.append(j)\n",
    "        step -= 1\n",
    "    if j < len(maze[i])-1 and map[i][j+1] == (step-1): # right\n",
    "        i,j = i,j+1\n",
    "        x.append(i)\n",
    "        y.append(j)\n",
    "        step -= 1"
   ]
  },
  {
   "cell_type": "code",
   "execution_count": 13,
   "metadata": {},
   "outputs": [
    {
     "name": "stderr",
     "output_type": "stream",
     "text": [
      "<ipython-input-13-7a098f2d088f>:2: MatplotlibDeprecationWarning: Adding an axes using the same arguments as a previous axes currently reuses the earlier instance.  In a future version, a new instance will always be created and returned.  Meanwhile, this warning can be suppressed, and the future behavior ensured, by passing a unique label to each axes instance.\n",
      "  plt.axes().invert_xaxis()\n"
     ]
    },
    {
     "data": {
      "image/png": "[encoded data removed]",
      "text/plain": [
       "<Figure size 432x288 with 1 Axes>"
      ]
     },
     "metadata": {
      "needs_background": "light"
     },
     "output_type": "display_data"
    }
   ],
   "source": [
    "plt.plot(y,x)\n",
    "plt.axes().invert_xaxis()\n",
    "plt.show()"
   ]
  },
  {
   "cell_type": "code",
   "execution_count": null,
   "metadata": {},
   "outputs": [],
   "source": []
  }
 ],
 "metadata": {
  "kernelspec": {
   "display_name": "Python 3",
   "language": "python",
   "name": "python3"
  },
  "language_info": {
   "codemirror_mode": {
    "name": "ipython",
    "version": 3
   },
   "file_extension": ".py",
   "mimetype": "text/x-python",
   "name": "python",
   "nbconvert_exporter": "python",
   "pygments_lexer": "ipython3",
   "version": "3.9.1"
  }
 },
 "nbformat": 4,
 "nbformat_minor": 4
}
